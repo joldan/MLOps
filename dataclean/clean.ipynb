{
 "cells": [
  {
   "cell_type": "code",
   "execution_count": 1,
   "metadata": {},
   "outputs": [],
   "source": [
    "import pandas as pd\n",
    "import logging as log\n",
    "import re\n",
    "import json\n",
    "\n",
    "from dataclean import cleanData\n",
    "from dataclean import removeUnusedAndNullRows\n",
    "from dataclean import saveCleanData\n",
    "from dataclean import resize_images\n",
    "\n",
    "\n",
    "log.basicConfig(filename='./dataclean.log', encoding='utf-8',format='%(asctime)s %(message)s', level=log.INFO)\n",
    "log.info(\"Start Data Clean\")\n",
    "\n",
    "\n"
   ]
  },
  {
   "cell_type": "code",
   "execution_count": 2,
   "metadata": {},
   "outputs": [],
   "source": [
    "df = pd.read_csv('./output.csv')\n",
    "\n",
    "df2 = cleanData(df)\n",
    "df3 = removeUnusedAndNullRows(df2)\n",
    "#df3.head()\n",
    "saveCleanData(df3)\n"
   ]
  },
  {
   "cell_type": "code",
   "execution_count": 21,
   "metadata": {},
   "outputs": [],
   "source": [
    "filenames = df3['id']\n",
    "folder_path_in = './output/image/'\n",
    "folder_path_out = './output/image_reduced/'\n",
    "# Resize the image\n",
    "new_size = (256, 192)  # Specify the new size (width, height)\n",
    "\n",
    "resize_images(folder_path_in, folder_path_out, filenames, new_size)"
   ]
  },
  {
   "cell_type": "code",
   "execution_count": 17,
   "metadata": {},
   "outputs": [],
   "source": [
    "from PIL import Image\n",
    "import os\n",
    "\n",
    "def resize_images(folder_path_in, folder_path_out, filenames, new_size):\n",
    "    file_count = len(filenames)\n",
    "    log.info(\"Main -> %s - Function %s invoked\", __name__, resize_images.__name__)\n",
    "    log.info(\"Number of files to transform: %d\", file_count)\n",
    "    for filename in filenames.values:\n",
    "        # Construct the file path\n",
    "        file_path_in = os.path.join(folder_path_in, str(filename))\n",
    "        file_path_out = os.path.join(folder_path_out, str(filename))\n",
    "        \n",
    "        # Check if the image file exists\n",
    "        if not os.path.exists(file_path_in):\n",
    "            log.warning(\"Image file not found: %s\", file_path_in)\n",
    "            continue\n",
    "        \n",
    "        # Create the output folder if it doesn't exist\n",
    "        os.makedirs(folder_path_out, exist_ok=True)\n",
    "\n",
    "        # Open the image file\n",
    "        image = Image.open(file_path_in)\n",
    "        \n",
    "        # Resize the image\n",
    "        resized_image = image.resize(new_size)\n",
    "        \n",
    "        # Save the resized image with a modified filename\n",
    "        resized_image.save(file_path_out, 'JPEG')\n",
    "\n"
   ]
  },
  {
   "cell_type": "code",
   "execution_count": 19,
   "metadata": {},
   "outputs": [],
   "source": [
    "filenames = pd.Series([1, 2, 3, 4, 5,6,7,8,9,10])\n",
    "folder_path_in = './output/image2/'\n",
    "folder_path_out = './output/image2_reduced/'\n",
    "# Resize the image\n",
    "new_size = (256, 192)  # Specify the new size (width, height)\n",
    "\n",
    "resize_images(folder_path_in, folder_path_out, filenames, new_size)\n",
    "\n",
    "#1.1M antes"
   ]
  }
 ],
 "metadata": {
  "kernelspec": {
   "display_name": "MLOps",
   "language": "python",
   "name": "python3"
  },
  "language_info": {
   "codemirror_mode": {
    "name": "ipython",
    "version": 3
   },
   "file_extension": ".py",
   "mimetype": "text/x-python",
   "name": "python",
   "nbconvert_exporter": "python",
   "pygments_lexer": "ipython3",
   "version": "3.11.3"
  },
  "orig_nbformat": 4
 },
 "nbformat": 4,
 "nbformat_minor": 2
}
